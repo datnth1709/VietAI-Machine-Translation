{
 "cells": [
  {
   "cell_type": "markdown",
   "metadata": {},
   "source": [
    "## Training"
   ]
  },
  {
   "cell_type": "markdown",
   "metadata": {},
   "source": [
    "#### For Helsinki-opus training"
   ]
  },
  {
   "cell_type": "code",
   "execution_count": 1,
   "metadata": {},
   "outputs": [
    {
     "name": "stdout",
     "output_type": "stream",
     "text": [
      "usage: train.py [-h]\n",
      "                [--model_name {VietAI/vit5-base,Helsinki-NLP/opus-mt-vi-en,QyQy/VietAi-FinalProject-VIT5,datnth1709/finetuned_HelsinkiNLP-opus-mt-vi-en_PhoMT}]\n",
      "                [--dataset_tokenization_dir DATASET_TOKENIZATION_DIR]\n",
      "                [--epochs EPOCHS] [--batch_size BATCH_SIZE]\n",
      "                [--resume [RESUME]] [--data_type {helsinki,vit5}]\n",
      "                [--output_dir OUTPUT_DIR] [--src_max_length SRC_MAX_LENGTH]\n",
      "                [--tgt_max_length TGT_MAX_LENGTH]\n",
      "                [--accumulation ACCUMULATION] [--lr LR]\n",
      "\n",
      "optional arguments:\n",
      "  -h, --help            show this help message and exit\n",
      "  --model_name {VietAI/vit5-base,Helsinki-NLP/opus-mt-vi-en,QyQy/VietAi-FinalProject-VIT5,datnth1709/finetuned_HelsinkiNLP-opus-mt-vi-en_PhoMT}\n",
      "                        The name of the pretrained weights from HuggingFace\n",
      "                        Hub\n",
      "  --dataset_tokenization_dir DATASET_TOKENIZATION_DIR\n",
      "                        The path to tokenization folder of PhoMT dataset\n",
      "  --epochs EPOCHS       Total training epochs\n",
      "  --batch_size BATCH_SIZE\n",
      "                        total batch size for each GPUs\n",
      "  --resume [RESUME]     resume most recent training\n",
      "  --data_type {helsinki,vit5}\n",
      "                        Only support either helsinki or vit5 for preprocessing\n",
      "                        data\n",
      "  --output_dir OUTPUT_DIR\n",
      "                        folder name to save training\n",
      "  --src_max_length SRC_MAX_LENGTH\n",
      "                        Max length of input sentence\n",
      "  --tgt_max_length TGT_MAX_LENGTH\n",
      "                        Max length of label sentence\n",
      "  --accumulation ACCUMULATION\n",
      "                        Gradient Accumulation steps\n",
      "  --lr LR               Learning Rate\n"
     ]
    }
   ],
   "source": [
    "!python train.py --help"
   ]
  },
  {
   "cell_type": "code",
   "execution_count": null,
   "metadata": {},
   "outputs": [],
   "source": [
    "!python train.py --model_name \"Helsinki-NLP/opus-mt-vi-en\"\\\n",
    "    --dataset_tokenization_dir \"path-to-tokenization-dir-of-PhoMT\"\\\n",
    "    --epochs 5\\\n",
    "    --data_type \"helsinki\"\\\n",
    "    --output_dir \"training\""
   ]
  },
  {
   "cell_type": "markdown",
   "metadata": {},
   "source": [
    "For VietAi-vit5 training"
   ]
  },
  {
   "cell_type": "code",
   "execution_count": null,
   "metadata": {},
   "outputs": [],
   "source": [
    "!python train.py --model_name \"VietAI/vit5-base\"\\\n",
    "    --dataset_tokenization_dir \"path-to-tokenization-dir-of-PhoMT\"\\\n",
    "    --epochs 1\\\n",
    "    --data_type \"vit5\"\\\n",
    "    --output_dir \"training2\""
   ]
  },
  {
   "cell_type": "markdown",
   "metadata": {},
   "source": [
    "## Evaluating"
   ]
  },
  {
   "cell_type": "code",
   "execution_count": 1,
   "metadata": {},
   "outputs": [
    {
     "name": "stdout",
     "output_type": "stream",
     "text": [
      "/home/cotai/anaconda3/envs/vietai/lib/python3.8/site-packages/transformers/models/marian/tokenization_marian.py:198: UserWarning: Recommended: pip install sacremoses.\n",
      "  warnings.warn(\"Recommended: pip install sacremoses.\")\n",
      "Damn it , why not ?\n"
     ]
    }
   ],
   "source": [
    "!python inference.py --checkpoint \"datnth1709/finetuned_HelsinkiNLP-opus-mt-vi-en_PhoMT\" --text \"Bố khỉ, sao không?\""
   ]
  },
  {
   "cell_type": "code",
   "execution_count": 3,
   "metadata": {},
   "outputs": [
    {
     "name": "stdout",
     "output_type": "stream",
     "text": [
      "Why do n't you damn it ?\n"
     ]
    }
   ],
   "source": [
    "!python inference.py --checkpoint \"QyQy/VietAi-FinalProject-VIT5\" --text \"Bố khỉ, sao không?\""
   ]
  }
 ],
 "metadata": {
  "kernelspec": {
   "display_name": "Python 3.8.13 ('vietai')",
   "language": "python",
   "name": "python3"
  },
  "language_info": {
   "codemirror_mode": {
    "name": "ipython",
    "version": 3
   },
   "file_extension": ".py",
   "mimetype": "text/x-python",
   "name": "python",
   "nbconvert_exporter": "python",
   "pygments_lexer": "ipython3",
   "version": "3.8.13"
  },
  "orig_nbformat": 4,
  "vscode": {
   "interpreter": {
    "hash": "9eb15e64409fcc6543c0c9fa63971baa43084f006bc3c4bb3699f01076ad9f00"
   }
  }
 },
 "nbformat": 4,
 "nbformat_minor": 2
}
